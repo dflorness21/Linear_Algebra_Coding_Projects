{
  "nbformat": 4,
  "nbformat_minor": 0,
  "metadata": {
    "colab": {
      "name": "Untitled0.ipynb",
      "provenance": [],
      "authorship_tag": "ABX9TyO8xHxosKUVIXR1fxBPV57F",
      "include_colab_link": true
    },
    "kernelspec": {
      "name": "python3",
      "display_name": "Python 3"
    }
  },
  "cells": [
    {
      "cell_type": "markdown",
      "metadata": {
        "id": "view-in-github",
        "colab_type": "text"
      },
      "source": [
        "<a href=\"https://colab.research.google.com/github/dflorness21/Linear_Algebra_Coding_Projects/blob/master/EXAM_1_TAKEHOME_PORTION.ipynb\" target=\"_parent\"><img src=\"https://colab.research.google.com/assets/colab-badge.svg\" alt=\"Open In Colab\"/></a>"
      ]
    },
    {
      "cell_type": "code",
      "metadata": {
        "id": "_Q27PMbr0TqH"
      },
      "source": [
        "import numpy as np\n",
        "from numpy import c_\n",
        "\n",
        "ll = \"loaded\""
      ],
      "execution_count": 2,
      "outputs": []
    },
    {
      "cell_type": "markdown",
      "metadata": {
        "id": "hJJAja3ryarY"
      },
      "source": [
        "Transition Matrices and Markov Chains\n",
        "  A drug administered to a patient is measured in four different organs every 10 minutes. Measurements in organs A, B, C, and D indicate:\n",
        "\n",
        "Measurements\n",
        "*   30% of the drug in A moves to B\n",
        "*   30% of the drug in A moves to C\n",
        "*   20% of the drug in B moves to A\n",
        "*   40% of the drug in B moves to C\n",
        "*   50% of the drug in C moves to A\n",
        "*   50% of the drug in C moves to D\n",
        "\n",
        "Any drug not moving from one state to another remains in the original state."
      ]
    },
    {
      "cell_type": "markdown",
      "metadata": {
        "id": "92v02YbXzm_P"
      },
      "source": [
        "(a) Give the transition matrix."
      ]
    },
    {
      "cell_type": "code",
      "metadata": {
        "id": "Ryi8Q4ObyXDb",
        "outputId": "73850866-c860-48ed-8512-62374c0d5702",
        "colab": {
          "base_uri": "https://localhost:8080/",
          "height": 92
        }
      },
      "source": [
        "M = np.matrix([[.4, .2, .5, 0],\n",
        "               [.3, .4, 0, 0],\n",
        "               [.3, .4, 0, 0],\n",
        "               [0, 0, .5, 1]])\n",
        "M"
      ],
      "execution_count": 3,
      "outputs": [
        {
          "output_type": "execute_result",
          "data": {
            "text/plain": [
              "matrix([[0.4, 0.2, 0.5, 0. ],\n",
              "        [0.3, 0.4, 0. , 0. ],\n",
              "        [0.3, 0.4, 0. , 0. ],\n",
              "        [0. , 0. , 0.5, 1. ]])"
            ]
          },
          "metadata": {
            "tags": []
          },
          "execution_count": 3
        }
      ]
    },
    {
      "cell_type": "markdown",
      "metadata": {
        "id": "_n4nnAK2C5BG"
      },
      "source": [
        "(b) At time t = 0min, measurements indicate 100mg of the drug are in state A and 200mg of the drug are in state B. Determine the amount of drug in each state when t = 10min and t = 20min."
      ]
    },
    {
      "cell_type": "code",
      "metadata": {
        "id": "kpR281720RLf",
        "outputId": "5b39d226-7b79-4e73-b654-8317915fc5a8",
        "colab": {
          "base_uri": "https://localhost:8080/",
          "height": 92
        }
      },
      "source": [
        "x0 = np.matrix([[100], [200], [0], [0]])\n",
        "x0"
      ],
      "execution_count": 4,
      "outputs": [
        {
          "output_type": "execute_result",
          "data": {
            "text/plain": [
              "matrix([[100],\n",
              "        [200],\n",
              "        [  0],\n",
              "        [  0]])"
            ]
          },
          "metadata": {
            "tags": []
          },
          "execution_count": 4
        }
      ]
    },
    {
      "cell_type": "code",
      "metadata": {
        "id": "4-BZecOs0xYM",
        "outputId": "f6761279-dabd-4586-a408-21c5e0b2c1cf",
        "colab": {
          "base_uri": "https://localhost:8080/",
          "height": 92
        }
      },
      "source": [
        "M * x0"
      ],
      "execution_count": 9,
      "outputs": [
        {
          "output_type": "execute_result",
          "data": {
            "text/plain": [
              "matrix([[ 80.],\n",
              "        [110.],\n",
              "        [110.],\n",
              "        [  0.]])"
            ]
          },
          "metadata": {
            "tags": []
          },
          "execution_count": 9
        }
      ]
    },
    {
      "cell_type": "code",
      "metadata": {
        "id": "KWVnKKmt1DRy",
        "outputId": "9451d1dd-d3d1-40fb-fd1b-7d6e5aeb35e4",
        "colab": {
          "base_uri": "https://localhost:8080/",
          "height": 92
        }
      },
      "source": [
        "M ** 2 * x0"
      ],
      "execution_count": 10,
      "outputs": [
        {
          "output_type": "execute_result",
          "data": {
            "text/plain": [
              "matrix([[109.],\n",
              "        [ 68.],\n",
              "        [ 68.],\n",
              "        [ 55.]])"
            ]
          },
          "metadata": {
            "tags": []
          },
          "execution_count": 10
        }
      ]
    },
    {
      "cell_type": "markdown",
      "metadata": {
        "id": "PVXE5bOrDM8m"
      },
      "source": [
        "(c) Determine how much of the total substances is in each state after 4 hours."
      ]
    },
    {
      "cell_type": "code",
      "metadata": {
        "id": "zbev-CwH1Gee",
        "outputId": "4d343979-138c-4cbb-af38-48cd47a657e2",
        "colab": {
          "base_uri": "https://localhost:8080/",
          "height": 92
        }
      },
      "source": [
        "M ** 24 * x0"
      ],
      "execution_count": 11,
      "outputs": [
        {
          "output_type": "execute_result",
          "data": {
            "text/plain": [
              "matrix([[  3.68702513],\n",
              "        [  2.41372454],\n",
              "        [  2.41372454],\n",
              "        [291.48552579]])"
            ]
          },
          "metadata": {
            "tags": []
          },
          "execution_count": 11
        }
      ]
    }
  ]
}