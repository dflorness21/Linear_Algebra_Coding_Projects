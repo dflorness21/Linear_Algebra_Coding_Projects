{
  "nbformat": 4,
  "nbformat_minor": 0,
  "metadata": {
    "colab": {
      "name": "Exam_2_Takehome_Portion.ipynb",
      "provenance": [],
      "authorship_tag": "ABX9TyM/Y1899ZeaeucDX3afNo7W",
      "include_colab_link": true
    },
    "kernelspec": {
      "name": "python3",
      "display_name": "Python 3"
    }
  },
  "cells": [
    {
      "cell_type": "markdown",
      "metadata": {
        "id": "view-in-github",
        "colab_type": "text"
      },
      "source": [
        "<a href=\"https://colab.research.google.com/github/dflorness21/Linear_Algebra_Coding_Projects/blob/master/Exam_2_Takehome_Portion.ipynb\" target=\"_parent\"><img src=\"https://colab.research.google.com/assets/colab-badge.svg\" alt=\"Open In Colab\"/></a>"
      ]
    },
    {
      "cell_type": "code",
      "metadata": {
        "id": "pNMsvYcZAT1m"
      },
      "source": [
        "# Import the numpy library...\n",
        "\n",
        "import matplotlib.pyplot as plt\n",
        "from sympy import Poly\n",
        "import sympy as sym\n",
        "import numpy as np\n",
        "from numpy import c_\n",
        "\n",
        "# We'll specify that x and t are variables:\n",
        "x, t = sym.symbols('x, t')\n",
        "\n",
        "ll = \"loaded\""
      ],
      "execution_count": 1,
      "outputs": []
    },
    {
      "cell_type": "markdown",
      "metadata": {
        "id": "eQ-wC3uUAtPC"
      },
      "source": [
        "Page 4"
      ]
    },
    {
      "cell_type": "code",
      "metadata": {
        "id": "4-kK6-QZAjXf",
        "outputId": "d478dc06-2508-4fda-fad6-75aa806f7576",
        "colab": {
          "base_uri": "https://localhost:8080/"
        }
      },
      "source": [
        "M = np.matrix([[5, 1, 11],\n",
        "               [1, 11, 1],\n",
        "               [11, 1, 35]])\n",
        "\n",
        "M"
      ],
      "execution_count": 4,
      "outputs": [
        {
          "output_type": "execute_result",
          "data": {
            "text/plain": [
              "matrix([[ 5,  1, 11],\n",
              "        [ 1, 11,  1],\n",
              "        [11,  1, 35]])"
            ]
          },
          "metadata": {
            "tags": []
          },
          "execution_count": 4
        }
      ]
    },
    {
      "cell_type": "code",
      "metadata": {
        "id": "NdO_1IiiBCiz",
        "outputId": "e75ad702-63f9-4c53-b13f-03057d597cb6",
        "colab": {
          "base_uri": "https://localhost:8080/"
        }
      },
      "source": [
        "np.linalg.inv(M)"
      ],
      "execution_count": 5,
      "outputs": [
        {
          "output_type": "execute_result",
          "data": {
            "text/plain": [
              "matrix([[ 0.66666667, -0.04166667, -0.20833333],\n",
              "        [-0.04166667,  0.09375   ,  0.01041667],\n",
              "        [-0.20833333,  0.01041667,  0.09375   ]])"
            ]
          },
          "metadata": {
            "tags": []
          },
          "execution_count": 5
        }
      ]
    },
    {
      "cell_type": "markdown",
      "metadata": {
        "id": "M9O-40v2CCcL"
      },
      "source": [
        "Page 5"
      ]
    },
    {
      "cell_type": "code",
      "metadata": {
        "id": "SEbkdk5nB7oV"
      },
      "source": [
        "r1 = [2, -4, 4, 0]\n",
        "r2 = [2, -2, 6, 0]\n",
        "r3 = [-4, -1, 1, 0]"
      ],
      "execution_count": 16,
      "outputs": []
    },
    {
      "cell_type": "code",
      "metadata": {
        "id": "YjUmfwbhCdCH",
        "outputId": "2a2a9b59-051f-4e13-eaab-2bcb7a43b1b0",
        "colab": {
          "base_uri": "https://localhost:8080/"
        }
      },
      "source": [
        "print(r1)\n",
        "\n",
        "n1 = r1\n",
        "print(n1)\n",
        "\n",
        "print(np.sqrt(np.dot(n1, n1)))\n",
        "\n",
        "u1 = n1 / np.sqrt(np.dot(n1, n1))\n",
        "print(u1)"
      ],
      "execution_count": 17,
      "outputs": [
        {
          "output_type": "stream",
          "text": [
            "[2, -4, 4, 0]\n",
            "[2, -4, 4, 0]\n",
            "6.0\n",
            "[ 0.33333333 -0.66666667  0.66666667  0.        ]\n"
          ],
          "name": "stdout"
        }
      ]
    },
    {
      "cell_type": "code",
      "metadata": {
        "id": "yNQxK96cDNGb",
        "outputId": "ded440ae-ba09-498f-bf61-315779a2f0cc",
        "colab": {
          "base_uri": "https://localhost:8080/"
        }
      },
      "source": [
        "np.dot(u1, u1)"
      ],
      "execution_count": 18,
      "outputs": [
        {
          "output_type": "execute_result",
          "data": {
            "text/plain": [
              "1.0"
            ]
          },
          "metadata": {
            "tags": []
          },
          "execution_count": 18
        }
      ]
    },
    {
      "cell_type": "code",
      "metadata": {
        "id": "oZZ2ptOeC9lA",
        "outputId": "76e6fdb9-08ed-4c41-928a-864fb5398f8f",
        "colab": {
          "base_uri": "https://localhost:8080/"
        }
      },
      "source": [
        "print(r2)\n",
        "\n",
        "n2 = r2 - np.dot(r2, u1) * u1\n",
        "print(n2)\n",
        "\n",
        "print(np.sqrt(np.dot(n2, n2)))\n",
        "\n",
        "u2 = n2 / np.sqrt(np.dot(n2, n2))\n",
        "print(u2)"
      ],
      "execution_count": 19,
      "outputs": [
        {
          "output_type": "stream",
          "text": [
            "[2, -2, 6, 0]\n",
            "[0. 2. 2. 0.]\n",
            "2.8284271247461903\n",
            "[0.         0.70710678 0.70710678 0.        ]\n"
          ],
          "name": "stdout"
        }
      ]
    },
    {
      "cell_type": "code",
      "metadata": {
        "id": "CI5YKf1eDafd",
        "outputId": "c1f6142b-2b60-4dda-e17e-5995d9cab2fc",
        "colab": {
          "base_uri": "https://localhost:8080/"
        }
      },
      "source": [
        "np.dot(u2, u2)"
      ],
      "execution_count": 20,
      "outputs": [
        {
          "output_type": "execute_result",
          "data": {
            "text/plain": [
              "0.9999999999999998"
            ]
          },
          "metadata": {
            "tags": []
          },
          "execution_count": 20
        }
      ]
    },
    {
      "cell_type": "code",
      "metadata": {
        "id": "CiV2bLHHDpZf",
        "outputId": "f4da719c-f3f9-4c16-bc4d-301a032ce01f",
        "colab": {
          "base_uri": "https://localhost:8080/"
        }
      },
      "source": [
        "print(r3)\n",
        "\n",
        "n3 = r3 - np.dot(r3, u1) * u1 - np.dot(r3, u2) * u2\n",
        "print(n3)\n",
        "\n",
        "print(np.sqrt(np.dot(n3, n3)))\n",
        "\n",
        "u3 = n3 / np.sqrt(np.dot(n3, n3))\n",
        "print(u3)"
      ],
      "execution_count": 21,
      "outputs": [
        {
          "output_type": "stream",
          "text": [
            "[-4, -1, 1, 0]\n",
            "[-4. -1.  1.  0.]\n",
            "4.242640687119285\n",
            "[-0.94280904 -0.23570226  0.23570226  0.        ]\n"
          ],
          "name": "stdout"
        }
      ]
    },
    {
      "cell_type": "code",
      "metadata": {
        "id": "LnlrgijCD4wb",
        "outputId": "a1dbd013-e378-4346-d139-d1e345bc7691",
        "colab": {
          "base_uri": "https://localhost:8080/"
        }
      },
      "source": [
        "u4 = [0, 0, 0, 1]\n",
        "p = [3, -2, 6, -5]\n",
        "\n",
        "print(np.dot(u1, p))\n",
        "print(np.dot(u2, p))\n",
        "print(np.dot(u3, p))\n",
        "print(np.dot(u4, p))"
      ],
      "execution_count": 23,
      "outputs": [
        {
          "output_type": "stream",
          "text": [
            "6.333333333333333\n",
            "2.82842712474619\n",
            "-0.9428090415820634\n",
            "-5\n"
          ],
          "name": "stdout"
        }
      ]
    },
    {
      "cell_type": "markdown",
      "metadata": {
        "id": "SZvelNNoEiqq"
      },
      "source": [
        "Page 6"
      ]
    },
    {
      "cell_type": "code",
      "metadata": {
        "id": "h9GANuL6EHsg",
        "outputId": "88adf0e6-7ea6-40c0-ac44-afadbb3d6839",
        "colab": {
          "base_uri": "https://localhost:8080/"
        }
      },
      "source": [
        "M = np.matrix([[2, 4, 8, 0.5],\n",
        "               [2, -0.5, 2, -0.25],\n",
        "               [0, 4, -2, 0],\n",
        "               [4, 0, 2, 1]])\n",
        "\n",
        "np.linalg.det(M)"
      ],
      "execution_count": 24,
      "outputs": [
        {
          "output_type": "execute_result",
          "data": {
            "text/plain": [
              "108.00000000000003"
            ]
          },
          "metadata": {
            "tags": []
          },
          "execution_count": 24
        }
      ]
    }
  ]
}