{
  "nbformat": 4,
  "nbformat_minor": 0,
  "metadata": {
    "colab": {
      "name": "hw_wk10_02_determinants.ipynb",
      "provenance": [],
      "authorship_tag": "ABX9TyO4y+JQOvs8xl8sReaE/lMJ",
      "include_colab_link": true
    },
    "kernelspec": {
      "name": "python3",
      "display_name": "Python 3"
    }
  },
  "cells": [
    {
      "cell_type": "markdown",
      "metadata": {
        "id": "view-in-github",
        "colab_type": "text"
      },
      "source": [
        "<a href=\"https://colab.research.google.com/github/dflorness21/Linear_Algebra_Coding_Projects/blob/master/hw_wk10_02_determinants.ipynb\" target=\"_parent\"><img src=\"https://colab.research.google.com/assets/colab-badge.svg\" alt=\"Open In Colab\"/></a>"
      ]
    },
    {
      "cell_type": "code",
      "metadata": {
        "id": "B4GGcbyohY30"
      },
      "source": [
        "# Import the numpy library...\n",
        "\n",
        "import matplotlib.pyplot as plt\n",
        "from sympy import Poly\n",
        "import sympy as sym\n",
        "import numpy as np\n",
        "from numpy import c_\n",
        "\n",
        "# We'll specify that x and t are variables:\n",
        "x, t = sym.symbols('x, t')\n",
        "\n",
        "ll = \"loaded\""
      ],
      "execution_count": 1,
      "outputs": []
    },
    {
      "cell_type": "code",
      "metadata": {
        "id": "yFCBfZ0HhgrN",
        "outputId": "b82e045e-65b3-4506-b54e-c8964896f18f",
        "colab": {
          "base_uri": "https://localhost:8080/"
        }
      },
      "source": [
        "# create the matrix:\n",
        "A = np.matrix([[10, 7],\n",
        "               [8, 9]])\n",
        "\n",
        "B = np.matrix([[-10, -1],\n",
        "               [-4, 7]])\n",
        "\n",
        "C = np.matrix([[1, -3],\n",
        "               [7, 7]])\n",
        "\n",
        "D = A*B\n",
        "E = B*A\n",
        "F = A*C\n",
        "G = C*A\n",
        "H = B*C\n",
        "I = C*B\n",
        "J = A*B*C\n",
        "K = A*C*B\n",
        "L = C*B*A\n",
        "\n",
        "print(D)\n",
        "print(E)\n",
        "print(F)\n",
        "print(G)\n",
        "print(H)\n",
        "print(I)\n",
        "print(J)\n",
        "print(K)\n",
        "print(L)"
      ],
      "execution_count": 21,
      "outputs": [
        {
          "output_type": "stream",
          "text": [
            "[[-128   39]\n",
            " [-116   55]]\n",
            "[[-108  -79]\n",
            " [  16   35]]\n",
            "[[59 19]\n",
            " [71 39]]\n",
            "[[-14 -20]\n",
            " [126 112]]\n",
            "[[-17  23]\n",
            " [ 45  61]]\n",
            "[[  2 -22]\n",
            " [-98  42]]\n",
            "[[145 657]\n",
            " [269 733]]\n",
            "[[-666   74]\n",
            " [-866  202]]\n",
            "[[-156 -184]\n",
            " [-644 -308]]\n"
          ],
          "name": "stdout"
        }
      ]
    },
    {
      "cell_type": "code",
      "metadata": {
        "id": "7-UgB_2fiEtm",
        "outputId": "9d7425bd-3983-4095-d422-f473bb12b5ae",
        "colab": {
          "base_uri": "https://localhost:8080/"
        }
      },
      "source": [
        "print(np.linalg.det(D))\n",
        "print(np.linalg.det(E))\n",
        "print(np.linalg.det(F))\n",
        "print(np.linalg.det(G))\n",
        "print(np.linalg.det(H))\n",
        "print(np.linalg.det(I))\n",
        "print(np.linalg.det(J))\n",
        "print(np.linalg.det(K))\n",
        "print(np.linalg.det(L))"
      ],
      "execution_count": 22,
      "outputs": [
        {
          "output_type": "stream",
          "text": [
            "-2515.999999999999\n",
            "-2516.0000000000014\n",
            "951.9999999999997\n",
            "951.9999999999997\n",
            "-2071.9999999999995\n",
            "-2071.9999999999995\n",
            "-70447.99999999994\n",
            "-70447.99999999994\n",
            "-70447.99999999994\n"
          ],
          "name": "stdout"
        }
      ]
    },
    {
      "cell_type": "code",
      "metadata": {
        "id": "W7Fqz-8miKsq",
        "outputId": "ec51435d-c343-44ed-ff0d-b00d3567dfb4",
        "colab": {
          "base_uri": "https://localhost:8080/"
        }
      },
      "source": [
        "# create the matrix:\n",
        "A = np.matrix([[3, 2, 3],\n",
        "               [-6, 1, -10],\n",
        "               [-8, -9, -9]])\n",
        "\n",
        "B = np.matrix([[1, -2, 1],\n",
        "               [5, 5, 4],\n",
        "               [4, 0, 0]])\n",
        "\n",
        "C = np.matrix([[1, 0, 0],\n",
        "               [0, 2, 0],\n",
        "               [-3, -2, 1]])\n",
        "\n",
        "D = A*B\n",
        "E = B*A\n",
        "F = A*C\n",
        "G = C*A\n",
        "H = B*C\n",
        "I = C*B\n",
        "J = A*B*C\n",
        "K = A*C*B\n",
        "L = C*B*A\n",
        "\n",
        "print(D)\n",
        "print(E)\n",
        "print(F)\n",
        "print(G)\n",
        "print(H)\n",
        "print(I)\n",
        "print(J)\n",
        "print(K)\n",
        "print(L)"
      ],
      "execution_count": 27,
      "outputs": [
        {
          "output_type": "stream",
          "text": [
            "[[ 25   4  11]\n",
            " [-41  17  -2]\n",
            " [-89 -29 -44]]\n",
            "[[  7  -9  14]\n",
            " [-47 -21 -71]\n",
            " [ 12   8  12]]\n",
            "[[ -6  -2   3]\n",
            " [ 24  22 -10]\n",
            " [ 19   0  -9]]\n",
            "[[  3   2   3]\n",
            " [-12   2 -20]\n",
            " [ -5 -17   2]]\n",
            "[[-2 -6  1]\n",
            " [-7  2  4]\n",
            " [ 4  0  0]]\n",
            "[[  1  -2   1]\n",
            " [ 10  10   8]\n",
            " [ -9  -4 -11]]\n",
            "[[ -8 -14  11]\n",
            " [-35  38  -2]\n",
            " [ 43  30 -44]]\n",
            "[[ -4   2 -14]\n",
            " [ 94  62 112]\n",
            " [-17 -38  19]]\n",
            "[[   7   -9   14]\n",
            " [ -94  -42 -142]\n",
            " [  85   77  112]]\n"
          ],
          "name": "stdout"
        }
      ]
    },
    {
      "cell_type": "code",
      "metadata": {
        "id": "HAk2aTiYIB04",
        "outputId": "ae2b8b16-1df5-4817-9e22-d57512f319e8",
        "colab": {
          "base_uri": "https://localhost:8080/"
        }
      },
      "source": [
        "print(np.linalg.det(D))\n",
        "print(np.linalg.det(E))\n",
        "print(np.linalg.det(F))\n",
        "print(np.linalg.det(G))\n",
        "print(np.linalg.det(H))\n",
        "print(np.linalg.det(I))\n",
        "print(np.linalg.det(J))\n",
        "print(np.linalg.det(K))\n",
        "print(np.linalg.det(L))"
      ],
      "execution_count": 28,
      "outputs": [
        {
          "output_type": "stream",
          "text": [
            "3067.9999999999973\n",
            "3067.9999999999973\n",
            "-118.00000000000004\n",
            "-118.00000000000004\n",
            "-103.99999999999999\n",
            "-104.00000000000007\n",
            "6135.999999999995\n",
            "6136.000000000006\n",
            "6136.000000000006\n"
          ],
          "name": "stdout"
        }
      ]
    },
    {
      "cell_type": "code",
      "metadata": {
        "id": "P6FOCrRAJUDM",
        "outputId": "f9f3e1a8-b12d-418d-eddb-c57c0dd96e1f",
        "colab": {
          "base_uri": "https://localhost:8080/"
        }
      },
      "source": [
        "P = np.matrix([[2, 0, 0, 0, 0, 0, 0, 0, 0, 0],\n",
        "               [0, 1, 0, 0, 0, 0, 0, 0, 0, 0],\n",
        "               [0, 0, 1, 0, 0, 0, 0, 0, 0, 0],\n",
        "               [0, 0, 0, 1, 0, 0, 0, 0, 0, 0],\n",
        "               [0, 0, 0, 0, 1, 0, 0, 0, 0, 0],\n",
        "               [0, 0, 0, 0, 0, 1, 0, 0, 0, 0],\n",
        "               [0, 0, 0, 0, 0, 0, 1, 0, 0, 0],\n",
        "               [0, 0, 0, 0, 0, 0, 0, 1, 0, 0],\n",
        "               [0, 0, 0, 0, 0, 0, 0, 0, 1, 0],\n",
        "               [0, 0, 0, 0, 0, 0, 0, 0, 0, 1]])\n",
        "\n",
        "Q = np.matrix([[-1, 0, 0, 0, 0, 0, 0, 0, 0, 0],\n",
        "               [0, 1, 0, 0, 0, 0, 0, 0, 0, 0],\n",
        "               [0, 0, 1, 0, 0, 0, 0, 0, 0, 0],\n",
        "               [0, 0, 0, 1, 0, 0, 0, 0, 0, 0],\n",
        "               [0, 0, 0, 0, 1, 0, 0, 0, 0, 0],\n",
        "               [0, 0, 0, 0, 0, 1, 0, 0, 0, 0],\n",
        "               [0, 0, 0, 0, 0, 0, 1, 0, 0, 0],\n",
        "               [0, 0, 0, 0, 0, 0, 0, 1, 0, 0],\n",
        "               [0, 0, 0, 0, 0, 0, 0, 0, 1, 0],\n",
        "               [0, 0, 0, 0, 0, 0, 0, 0, 0, 1]])\n",
        "\n",
        "R = np.matrix([[3, 0, 0, 0, 0, 0, 0, 0, 0, 0],\n",
        "               [0, 1, 0, 0, 0, 0, 0, 0, 0, 0],\n",
        "               [0, 0, 1, 0, 0, 0, 0, 0, 0, 0],\n",
        "               [0, 0, 0, 1, 0, 0, 0, 0, 0, 0],\n",
        "               [0, 0, 0, 0, 1, 0, 0, 0, 0, 0],\n",
        "               [0, 0, 0, 0, 0, 1, 0, 0, 0, 0],\n",
        "               [0, 0, 0, 0, 0, 0, 1, 0, 0, 0],\n",
        "               [0, 0, 0, 0, 0, 0, 0, 1, 0, 0],\n",
        "               [0, 0, 0, 0, 0, 0, 0, 0, 1, 0],\n",
        "               [0, 0, 0, 0, 0, 0, 0, 0, 0, 1]])\n",
        "\n",
        "Z = P*Q*R*Q*P\n",
        "\n",
        "np.linalg.det(Z)"
      ],
      "execution_count": 30,
      "outputs": [
        {
          "output_type": "execute_result",
          "data": {
            "text/plain": [
              "12.0"
            ]
          },
          "metadata": {
            "tags": []
          },
          "execution_count": 30
        }
      ]
    },
    {
      "cell_type": "code",
      "metadata": {
        "id": "kGXl02NrMRTN"
      },
      "source": [
        ""
      ],
      "execution_count": null,
      "outputs": []
    }
  ]
}