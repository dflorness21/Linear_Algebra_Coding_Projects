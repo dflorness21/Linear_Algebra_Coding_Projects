{
  "nbformat": 4,
  "nbformat_minor": 0,
  "metadata": {
    "colab": {
      "name": "Practice with Gram Schmidt Process.ipynb",
      "provenance": [],
      "authorship_tag": "ABX9TyOox7D+ZIUP6MTECrOhLLoo",
      "include_colab_link": true
    },
    "kernelspec": {
      "name": "python3",
      "display_name": "Python 3"
    }
  },
  "cells": [
    {
      "cell_type": "markdown",
      "metadata": {
        "id": "view-in-github",
        "colab_type": "text"
      },
      "source": [
        "<a href=\"https://colab.research.google.com/github/dflorness21/Linear_Algebra_Coding_Projects/blob/master/Practice_with_Gram_Schmidt_Process.ipynb\" target=\"_parent\"><img src=\"https://colab.research.google.com/assets/colab-badge.svg\" alt=\"Open In Colab\"/></a>"
      ]
    },
    {
      "cell_type": "code",
      "metadata": {
        "id": "nsa_ZB1gXoAK"
      },
      "source": [
        "# Import the numpy library...\n",
        "\n",
        "import matplotlib.pyplot as plt\n",
        "from sympy import Poly\n",
        "import sympy as sym\n",
        "import numpy as np\n",
        "from numpy import c_\n",
        "\n",
        "# We'll specify that x and t are variables:\n",
        "x, t = sym.symbols('x, t')\n",
        "\n",
        "ll = \"loaded\""
      ],
      "execution_count": 31,
      "outputs": []
    },
    {
      "cell_type": "code",
      "metadata": {
        "id": "oaHEEyzlYh5M",
        "outputId": "7e2818dc-41ff-4688-a3dc-ea8ddb308115",
        "colab": {
          "base_uri": "https://localhost:8080/",
          "height": 54
        }
      },
      "source": [
        "# How do I do a dot product?\n",
        "\n",
        "print(np.dot([1, 2], [3, 4]))\n",
        "\n",
        "# How do I find the magnitude in np?\n",
        "\n",
        "print(np.sqrt(np.dot([1, 2], [1, 2])))"
      ],
      "execution_count": 32,
      "outputs": [
        {
          "output_type": "stream",
          "text": [
            "11\n",
            "2.23606797749979\n"
          ],
          "name": "stdout"
        }
      ]
    },
    {
      "cell_type": "code",
      "metadata": {
        "id": "0QAjezAqYtvK",
        "outputId": "1d14ca01-c941-4e1a-a892-c0eaac7e263c",
        "colab": {
          "base_uri": "https://localhost:8080/",
          "height": 92
        }
      },
      "source": [
        "# Define the original vectors:\n",
        "\n",
        "r1 = [2, 4, 0, 0]\n",
        "r2 = [1, 2, 3, 6]\n",
        "r3 = [2, -1, 2, -1]\n",
        "r4 = [1, 2, 3, 4]\n",
        "\n",
        "print(r1)\n",
        "print(r2)\n",
        "print(r3)\n",
        "print(r4)"
      ],
      "execution_count": 34,
      "outputs": [
        {
          "output_type": "stream",
          "text": [
            "[2, 4, 0, 0]\n",
            "[1, 2, 3, 6]\n",
            "[2, -1, 2, -1]\n",
            "[1, 2, 3, 4]\n"
          ],
          "name": "stdout"
        }
      ]
    },
    {
      "cell_type": "code",
      "metadata": {
        "id": "pKi4jQQuZe7F",
        "outputId": "7153cf48-013e-4b88-e06a-9ff3a7bf4e51",
        "colab": {
          "base_uri": "https://localhost:8080/",
          "height": 92
        }
      },
      "source": [
        "# Find the first nice basis vector u1\n",
        "\n",
        "# 1: Pick a new vector\n",
        "\n",
        "print(r1)\n",
        "\n",
        "# 2: Subtract the basis of r1 onto the nice basis u1, u2, u3, ...\n",
        "# and save as a temp vector n1\n",
        "\n",
        "n1 = r1\n",
        "print(n1)\n",
        "\n",
        "# 3: Find the magnitude of n1\n",
        "\n",
        "print(np.sqrt(np.dot(n1, n1)))\n",
        "\n",
        "# 4: Create the nice basis vector u1 = 1 / | n1 | * n1\n",
        "\n",
        "u1 = n1 / np.sqrt(np.dot(n1, n1))\n",
        "print(u1)"
      ],
      "execution_count": 35,
      "outputs": [
        {
          "output_type": "stream",
          "text": [
            "[2, 4, 0, 0]\n",
            "[2, 4, 0, 0]\n",
            "4.47213595499958\n",
            "[0.4472136  0.89442719 0.         0.        ]\n"
          ],
          "name": "stdout"
        }
      ]
    },
    {
      "cell_type": "code",
      "metadata": {
        "id": "tbI38pBUa6g0",
        "outputId": "b938242e-f4fc-4837-d03b-072c2a1c2e0a",
        "colab": {
          "base_uri": "https://localhost:8080/",
          "height": 36
        }
      },
      "source": [
        "# Check that u1 has magnitude 1:\n",
        "\n",
        "np.dot(u1, u1)"
      ],
      "execution_count": 36,
      "outputs": [
        {
          "output_type": "execute_result",
          "data": {
            "text/plain": [
              "0.9999999999999999"
            ]
          },
          "metadata": {
            "tags": []
          },
          "execution_count": 36
        }
      ]
    },
    {
      "cell_type": "code",
      "metadata": {
        "id": "iFgXxrEDbzX_",
        "outputId": "277cf8ec-3b32-4b5f-dde1-83dba1114084",
        "colab": {
          "base_uri": "https://localhost:8080/",
          "height": 92
        }
      },
      "source": [
        "# Find the second nice basis vector u1\n",
        "\n",
        "# 1: Pick a new vector\n",
        "\n",
        "print(r2)\n",
        "\n",
        "# 2: Subtract the basis of r2 onto the nice basis u1, u2, u3, ...\n",
        "# and save as a temp vector n2\n",
        "\n",
        "n2 = r2 - np.dot(r2, u1) * u1\n",
        "print(n2)\n",
        "\n",
        "# 3: Find the magnitude of n2\n",
        "\n",
        "print(np.sqrt(np.dot(n2, n2)))\n",
        "\n",
        "# 4: Create the nice basis vector u2 = 1 / | n2 | * n2\n",
        "\n",
        "u2 = n2 / np.sqrt(np.dot(n2, n2))\n",
        "print(u2)"
      ],
      "execution_count": 37,
      "outputs": [
        {
          "output_type": "stream",
          "text": [
            "[1, 2, 3, 6]\n",
            "[0. 0. 3. 6.]\n",
            "6.708203932499369\n",
            "[0.         0.         0.4472136  0.89442719]\n"
          ],
          "name": "stdout"
        }
      ]
    },
    {
      "cell_type": "code",
      "metadata": {
        "id": "1XbVgz14cNG-",
        "outputId": "e249dd4e-ff17-4438-855c-aaabc6cdf039",
        "colab": {
          "base_uri": "https://localhost:8080/",
          "height": 54
        }
      },
      "source": [
        "# Check that u1 and u2 are orthogonal:\n",
        "\n",
        "print(np.dot(u1, u2))\n",
        "\n",
        "# Check that u2 has magnitude 1:\n",
        "\n",
        "print(np.dot(u2, u2))"
      ],
      "execution_count": 38,
      "outputs": [
        {
          "output_type": "stream",
          "text": [
            "0.0\n",
            "0.9999999999999999\n"
          ],
          "name": "stdout"
        }
      ]
    },
    {
      "cell_type": "code",
      "metadata": {
        "id": "8WcvAZ9WcnAn",
        "outputId": "c4795abe-2231-478f-b09c-9cfd63503ac7",
        "colab": {
          "base_uri": "https://localhost:8080/",
          "height": 92
        }
      },
      "source": [
        "# Find the third nice basis vector u1\n",
        "\n",
        "# 1: Pick a new vector\n",
        "\n",
        "print(r3)\n",
        "\n",
        "# 2: Subtract the basis of r3 onto the nice basis u1, u2, u3, ...\n",
        "# and save as a temp vector n3\n",
        "\n",
        "n3 = r3 - np.dot(r3, u1) * u1 - np.dot(r3, u2) * u2\n",
        "print(n3)\n",
        "\n",
        "# 3: Find the magnitude of n3\n",
        "\n",
        "print(np.sqrt(np.dot(n3, n3)))\n",
        "\n",
        "# 4: Create the nice basis vector u3 = 1 / | n3 | * n3\n",
        "\n",
        "u3 = n3 / np.sqrt(np.dot(n3, n3))\n",
        "print(u3)"
      ],
      "execution_count": 39,
      "outputs": [
        {
          "output_type": "stream",
          "text": [
            "[2, -1, 2, -1]\n",
            "[ 2. -1.  2. -1.]\n",
            "3.1622776601683795\n",
            "[ 0.63245553 -0.31622777  0.63245553 -0.31622777]\n"
          ],
          "name": "stdout"
        }
      ]
    },
    {
      "cell_type": "code",
      "metadata": {
        "id": "zPF0RAkjc-ew",
        "outputId": "20e4a9a2-b18d-4a5c-ac65-e51d49c3a619",
        "colab": {
          "base_uri": "https://localhost:8080/",
          "height": 73
        }
      },
      "source": [
        "# Check that u3 is orthogonal to u1 and u2\n",
        "\n",
        "print(np.dot(u1, u3))\n",
        "print(np.dot(u2, u3))\n",
        "\n",
        "# Check that u3 has magnitude 1\n",
        "\n",
        "print(np.dot(u3, u3))"
      ],
      "execution_count": 42,
      "outputs": [
        {
          "output_type": "stream",
          "text": [
            "0.0\n",
            "0.0\n",
            "1.0\n"
          ],
          "name": "stdout"
        }
      ]
    },
    {
      "cell_type": "code",
      "metadata": {
        "id": "rR0UhcayeWJx",
        "outputId": "3fa8aa92-044d-4544-e02b-4112daca566a",
        "colab": {
          "base_uri": "https://localhost:8080/",
          "height": 92
        }
      },
      "source": [
        "# Find the fourth nice basis vector u1\n",
        "\n",
        "# 1: Pick a new vector\n",
        "\n",
        "print(r4)\n",
        "\n",
        "# 2: Subtract the basis of r4 onto the nice basis u1, u2, u3, ...\n",
        "# and save as a temp vector n4\n",
        "\n",
        "n4 = r4 - np.dot(r4, u1) * u1 - np.dot(r4, u2) * u2 - np.dot(r4, u3) * u3\n",
        "print(n4)\n",
        "\n",
        "# 3: Find the magnitude of n4\n",
        "\n",
        "print(np.sqrt(np.dot(n4, n4)))\n",
        "\n",
        "# 4: Create the nice basis vector u4 = 1 / | n4 | * n4\n",
        "\n",
        "u4 = n4 / np.sqrt(np.dot(n4, n4))\n",
        "print(u4)"
      ],
      "execution_count": 43,
      "outputs": [
        {
          "output_type": "stream",
          "text": [
            "[1, 2, 3, 4]\n",
            "[-0.4  0.2  0.4 -0.2]\n",
            "0.6324555320336759\n",
            "[-0.63245553  0.31622777  0.63245553 -0.31622777]\n"
          ],
          "name": "stdout"
        }
      ]
    },
    {
      "cell_type": "code",
      "metadata": {
        "id": "gJX_GjfaermP",
        "outputId": "efa67791-94a0-48bb-dfed-76773a2d88d0",
        "colab": {
          "base_uri": "https://localhost:8080/",
          "height": 92
        }
      },
      "source": [
        "# Check that u4 is orthogonal to u1, u2, and u3\n",
        "\n",
        "print(np.dot(u1, u4))\n",
        "print(np.dot(u2, u4))\n",
        "print(np.dot(u3, u4))\n",
        "\n",
        "# Check that u4 has magnitude 1\n",
        "\n",
        "print(np.dot(u4, u4))"
      ],
      "execution_count": 44,
      "outputs": [
        {
          "output_type": "stream",
          "text": [
            "0.0\n",
            "9.43689570931383e-16\n",
            "9.71445146547012e-17\n",
            "0.9999999999999998\n"
          ],
          "name": "stdout"
        }
      ]
    },
    {
      "cell_type": "markdown",
      "metadata": {
        "id": "Cx3qHYQmgPKh"
      },
      "source": [
        "Homework: Gram-Schmidt Orthonormalization Process - Part 2"
      ]
    },
    {
      "cell_type": "code",
      "metadata": {
        "id": "PK7-fVxefDPz",
        "outputId": "90bf4265-82b6-495e-d06a-e006bb5f5398",
        "colab": {
          "base_uri": "https://localhost:8080/",
          "height": 92
        }
      },
      "source": [
        "# Define the original vectors:\n",
        "\n",
        "r1 = [3, 0, 3, 0]\n",
        "r2 = [3, 2, 3, 3]\n",
        "r3 = [-7, -4, -5, -6]\n",
        "r4 = [-7, -3, -11, 2]\n",
        "\n",
        "print(r1)\n",
        "print(r2)\n",
        "print(r3)\n",
        "print(r4)"
      ],
      "execution_count": 48,
      "outputs": [
        {
          "output_type": "stream",
          "text": [
            "[3, 0, 3, 0]\n",
            "[3, 2, 3, 3]\n",
            "[-7, -4, -5, -6]\n",
            "[-7, -3, -11, 2]\n"
          ],
          "name": "stdout"
        }
      ]
    },
    {
      "cell_type": "code",
      "metadata": {
        "id": "hlwPN-kugpC3",
        "outputId": "64631221-fcb6-4716-f69e-12a4981b0ec2",
        "colab": {
          "base_uri": "https://localhost:8080/",
          "height": 92
        }
      },
      "source": [
        "# Find the first nice basis vector u1\n",
        "\n",
        "# 1: Pick a new vector\n",
        "\n",
        "print(r1)\n",
        "\n",
        "# 2: Subtract the basis of r1 onto the nice basis u1, u2, u3, ...\n",
        "# and save as a temp vector n1\n",
        "\n",
        "n1 = r1\n",
        "print(n1)\n",
        "\n",
        "# 3: Find the magnitude of n1\n",
        "\n",
        "print(np.sqrt(np.dot(n1, n1)))\n",
        "\n",
        "# 4: Create the nice basis vector u1 = 1 / | n1 | * n1\n",
        "\n",
        "u1 = n1 / np.sqrt(np.dot(n1, n1))\n",
        "print(u1)"
      ],
      "execution_count": 49,
      "outputs": [
        {
          "output_type": "stream",
          "text": [
            "[3, 0, 3, 0]\n",
            "[3, 0, 3, 0]\n",
            "4.242640687119285\n",
            "[0.70710678 0.         0.70710678 0.        ]\n"
          ],
          "name": "stdout"
        }
      ]
    },
    {
      "cell_type": "code",
      "metadata": {
        "id": "hVKjcjskgvHg",
        "outputId": "259bba9c-a5ee-476c-8f89-4c4baf116fde",
        "colab": {
          "base_uri": "https://localhost:8080/",
          "height": 92
        }
      },
      "source": [
        "# Find the second nice basis vector u1\n",
        "\n",
        "# 1: Pick a new vector\n",
        "\n",
        "print(r2)\n",
        "\n",
        "# 2: Subtract the basis of r2 onto the nice basis u1, u2, u3, ...\n",
        "# and save as a temp vector n2\n",
        "\n",
        "n2 = r2 - np.dot(r2, u1) * u1\n",
        "print(n2)\n",
        "\n",
        "# 3: Find the magnitude of n2\n",
        "\n",
        "print(np.sqrt(np.dot(n2, n2)))\n",
        "\n",
        "# 4: Create the nice basis vector u2 = 1 / | n2 | * n2\n",
        "\n",
        "u2 = n2 / np.sqrt(np.dot(n2, n2))\n",
        "print(u2)"
      ],
      "execution_count": 50,
      "outputs": [
        {
          "output_type": "stream",
          "text": [
            "[3, 2, 3, 3]\n",
            "[-4.4408921e-16  2.0000000e+00 -4.4408921e-16  3.0000000e+00]\n",
            "3.605551275463989\n",
            "[-1.23168186e-16  5.54700196e-01 -1.23168186e-16  8.32050294e-01]\n"
          ],
          "name": "stdout"
        }
      ]
    },
    {
      "cell_type": "code",
      "metadata": {
        "id": "yvnF43r5hStO",
        "outputId": "c1d28c6f-f4eb-4c5a-d41a-921d552d1b66",
        "colab": {
          "base_uri": "https://localhost:8080/",
          "height": 92
        }
      },
      "source": [
        "# Find the third nice basis vector u1\n",
        "\n",
        "# 1: Pick a new vector\n",
        "\n",
        "print(r3)\n",
        "\n",
        "# 2: Subtract the basis of r3 onto the nice basis u1, u2, u3, ...\n",
        "# and save as a temp vector n3\n",
        "\n",
        "n3 = r3 - np.dot(r3, u1) * u1 - np.dot(r3, u2) * u2\n",
        "print(n3)\n",
        "\n",
        "# 3: Find the magnitude of n3\n",
        "\n",
        "print(np.sqrt(np.dot(n3, n3)))\n",
        "\n",
        "# 4: Create the nice basis vector u3 = 1 / | n3 | * n3\n",
        "\n",
        "u3 = n3 / np.sqrt(np.dot(n3, n3))\n",
        "print(u3)"
      ],
      "execution_count": 51,
      "outputs": [
        {
          "output_type": "stream",
          "text": [
            "[-7, -4, -5, -6]\n",
            "[-1.0000000e+00 -4.4408921e-16  1.0000000e+00 -8.8817842e-16]\n",
            "1.4142135623730951\n",
            "[-7.07106781e-01 -3.14018492e-16  7.07106781e-01 -6.28036983e-16]\n"
          ],
          "name": "stdout"
        }
      ]
    },
    {
      "cell_type": "code",
      "metadata": {
        "id": "JsPYXXoki3Dc",
        "outputId": "4e3cb212-d7cf-44af-956d-73990ebdcdf5",
        "colab": {
          "base_uri": "https://localhost:8080/",
          "height": 92
        }
      },
      "source": [
        "# Find the fourth nice basis vector u1\n",
        "\n",
        "# 1: Pick a new vector\n",
        "\n",
        "print(r4)\n",
        "\n",
        "# 2: Subtract the basis of r4 onto the nice basis u1, u2, u3, ...\n",
        "# and save as a temp vector n4\n",
        "\n",
        "n4 = r4 - np.dot(r4, u1) * u1 - np.dot(r4, u2) * u2 - np.dot(r4, u3) * u3\n",
        "print(n4)\n",
        "\n",
        "# 3: Find the magnitude of n4\n",
        "\n",
        "print(np.sqrt(np.dot(n4, n4)))\n",
        "\n",
        "# 4: Create the nice basis vector u4 = 1 / | n4 | * n4\n",
        "\n",
        "u4 = n4 / np.sqrt(np.dot(n4, n4))\n",
        "print(u4)"
      ],
      "execution_count": 52,
      "outputs": [
        {
          "output_type": "stream",
          "text": [
            "[-7, -3, -11, 2]\n",
            "[ 0. -3.  0.  2.]\n",
            "3.605551275463989\n",
            "[ 0.         -0.83205029  0.          0.5547002 ]\n"
          ],
          "name": "stdout"
        }
      ]
    },
    {
      "cell_type": "code",
      "metadata": {
        "id": "j6rzV5nHjOS3",
        "outputId": "35ea981b-d6b5-4c8f-8641-61157b1b2301",
        "colab": {
          "base_uri": "https://localhost:8080/",
          "height": 129
        }
      },
      "source": [
        "print(np.dot(u1, u2))\n",
        "print(np.dot(u1, u3))\n",
        "print(np.dot(u1, u4))\n",
        "print(np.dot(u2, u3))\n",
        "print(np.dot(u2, u4))\n",
        "print(np.dot(u3, u4))"
      ],
      "execution_count": 53,
      "outputs": [
        {
          "output_type": "stream",
          "text": [
            "-1.741861189847285e-16\n",
            "0.0\n",
            "0.0\n",
            "-6.967444759389139e-16\n",
            "-1.2212453270876722e-15\n",
            "-8.709305949236341e-17\n"
          ],
          "name": "stdout"
        }
      ]
    },
    {
      "cell_type": "code",
      "metadata": {
        "id": "srHF30eGkieg",
        "outputId": "5e1372c1-5530-426a-df05-f62a471fbd39",
        "colab": {
          "base_uri": "https://localhost:8080/",
          "height": 92
        }
      },
      "source": [
        "print(np.dot(u1, u1))\n",
        "print(np.dot(u2, u2))\n",
        "print(np.dot(u3, u3))\n",
        "print(np.dot(u4, u4))"
      ],
      "execution_count": 54,
      "outputs": [
        {
          "output_type": "stream",
          "text": [
            "1.0000000000000002\n",
            "1.0\n",
            "0.9999999999999998\n",
            "1.0\n"
          ],
          "name": "stdout"
        }
      ]
    }
  ]
}